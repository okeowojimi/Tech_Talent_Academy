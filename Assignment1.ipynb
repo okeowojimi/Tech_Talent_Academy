{
 "cells": [
  {
   "cell_type": "code",
   "execution_count": 4,
   "metadata": {},
   "outputs": [
    {
     "name": "stdout",
     "output_type": "stream",
     "text": [
      "hello world!!\n"
     ]
    }
   ],
   "source": [
    "print('hello world!!')"
   ]
  },
  {
   "cell_type": "code",
   "execution_count": 5,
   "metadata": {},
   "outputs": [
    {
     "name": "stdout",
     "output_type": "stream",
     "text": [
      "Well, Frank I am thinking of a number between 1 and 10.\n",
      "Wrong, better luck next time\n"
     ]
    }
   ],
   "source": [
    "import random\n",
    "myName = input(\"Hello! What is your name?\")\n",
    "number = random.randint(1, 10)\n",
    "print(\"Well, \" + myName + \" I am thinking of a number between 1 and 10.\")\n",
    "guess = int(input(\"Take a guess:\") )\n",
    "if guess == number:\n",
    "    print(\"Good job,\" + myName + \"! You guessed my number\")\n",
    "else:\n",
    "    print(\"Wrong, better luck next time\")"
   ]
  },
  {
   "cell_type": "markdown",
   "metadata": {},
   "source": [
    "### Write a program that asks a user for their favourite number between 1 and 100 and then tells them a joke based on the number. You should use a minimum of 3 jokes"
   ]
  },
  {
   "cell_type": "code",
   "execution_count": 8,
   "metadata": {},
   "outputs": [
    {
     "name": "stdout",
     "output_type": "stream",
     "text": [
      "A cow and a hare jumped over the moon\n"
     ]
    }
   ],
   "source": [
    "import random\n",
    "jokes = {1:\"A cow and a hare jumped over the moon\",2:\"Clap ifnrnini\",3:\"Joke 3 and ..\"}\n",
    "myNumber = int(input(\"Enter your favourite number (1 - 100)?\"))\n",
    "if myNumber == 1:\n",
    "    print(jokes[1])\n",
    "elif myNumber ==2:\n",
    "    print(jokes[2])\n",
    "else:\n",
    "    print(jokes[3])"
   ]
  },
  {
   "cell_type": "markdown",
   "metadata": {},
   "source": [
    "### Task 3 Write a program that allows user to enter their favourite starter, main course, dessert and drink. Concatenate these and output a message which says – “Your favourite meal is ………with a glass of….”"
   ]
  },
  {
   "cell_type": "code",
   "execution_count": 9,
   "metadata": {},
   "outputs": [
    {
     "name": "stdout",
     "output_type": "stream",
     "text": [
      "Your favourite meal is Bread Rice Ice cream with a glass of Tequila\n"
     ]
    }
   ],
   "source": [
    "starter = input(\"Enter your favourite starter \")\n",
    "main = input(\"Enter your favourite main course \")\n",
    "dessert = input(\"Enter your favourite dessert \")\n",
    "drink = input(\"Enter your favourite drink \")\n",
    "\n",
    "print(\"Your favourite meal is \"+starter+\" \"+main+\" \"+dessert+\" with a glass of \"+ drink)"
   ]
  },
  {
   "cell_type": "markdown",
   "metadata": {},
   "source": [
    "### Task 4 A motorbike costs £2000 and loses 10% of its value every year. Using a loop, print the value of the bike every following year until it falls below £1000."
   ]
  },
  {
   "cell_type": "code",
   "execution_count": 6,
   "metadata": {},
   "outputs": [
    {
     "name": "stdout",
     "output_type": "stream",
     "text": [
      "At year 1 value of bike is 1800.0\n",
      "At year 2 value of bike is 1620.0\n",
      "At year 3 value of bike is 1458.0\n",
      "At year 4 value of bike is 1312.2\n",
      "At year 5 value of bike is 1180.98\n",
      "At year 6 value of bike is 1062.882\n"
     ]
    }
   ],
   "source": [
    "loss = 0.1\n",
    "cost_of_motor_bike = 2000\n",
    "year = 1\n",
    "while cost_of_motor_bike >= 1000:\n",
    "    cost_of_motor_bike = cost_of_motor_bike - (cost_of_motor_bike*loss)\n",
    "    if cost_of_motor_bike > 1000:\n",
    "        print(\"At year \"+str(year)+\" value of bike is \"+str(cost_of_motor_bike))\n",
    "        year+=1\n"
   ]
  },
  {
   "cell_type": "markdown",
   "metadata": {},
   "source": [
    "### Task 5 Write a program which will ask for two numbers from a user. Then offer a menu to the user giving them a choice of operator: e.g. – Enter “a” if you want to add “b” if you want to subtract Include +, -, /, *, ** square (to the power of). Once the user has selected which operator they wish to use, perform the calculation."
   ]
  },
  {
   "cell_type": "code",
   "execution_count": 13,
   "metadata": {},
   "outputs": [
    {
     "name": "stdout",
     "output_type": "stream",
     "text": [
      "2 raised to power 2 = 4\n"
     ]
    }
   ],
   "source": [
    "number1 = int(input(\"Enter your 1st number \"))\n",
    "number2 = int(input(\"Enter your 2nd number \"))\n",
    "oper =  input(\"Choose opertation from menu: \\n a - Add \\n s - Subtract \\n d - Division \\n p - PowerOf\")\n",
    "\n",
    "if oper == 'a':\n",
    "    result = number1+number2\n",
    "    print(str(number1) + \"+\" + str(number2) + \" = \"+ str(result))\n",
    "\n",
    "elif oper == 's':\n",
    "    result = number1-number2\n",
    "    print(str(number1) + \"-\" + str(number2)+ \" = \"+ str(result))\n",
    "\n",
    "elif oper == 'd':\n",
    "    result = number1/number2\n",
    "    print(str(number1)+\"%\" + str(number2)+ \" = \"+ str(result))\n",
    "\n",
    "elif oper == 'p':\n",
    "    result = number1**number2\n",
    "    print(str(number1)+\" raised to power \" + str(number2)+ \" = \"+ str(result))\n",
    "\n",
    "else:\n",
    "    print(\"No such operation.\")"
   ]
  },
  {
   "cell_type": "markdown",
   "metadata": {},
   "source": []
  }
 ],
 "metadata": {
  "interpreter": {
   "hash": "5d240ba0dc525c389faa33f5dcce5b4f32b6d6aa6d70d6d2dd929bd2b09ab69f"
  },
  "kernelspec": {
   "display_name": "Python 3.10.0 64-bit",
   "name": "python3"
  },
  "language_info": {
   "codemirror_mode": {
    "name": "ipython",
    "version": 3
   },
   "file_extension": ".py",
   "mimetype": "text/x-python",
   "name": "python",
   "nbconvert_exporter": "python",
   "pygments_lexer": "ipython3",
   "version": "3.10.0"
  },
  "orig_nbformat": 4
 },
 "nbformat": 4,
 "nbformat_minor": 2
}
